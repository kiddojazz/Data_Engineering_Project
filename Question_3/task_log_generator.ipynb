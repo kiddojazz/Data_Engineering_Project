{
 "cells": [
  {
   "cell_type": "markdown",
   "id": "c4b5b3da",
   "metadata": {},
   "source": [
    "### Download Need Libraries"
   ]
  },
  {
   "cell_type": "code",
   "execution_count": 3,
   "id": "809fd117-3140-4880-adb0-c310ceec6e82",
   "metadata": {
    "microsoft": {
     "language": "python",
     "language_group": "synapse_pyspark"
    }
   },
   "outputs": [],
   "source": [
    "#pyspark==3.4.1\n",
    "!pip install python-dotenv\n",
    "!pip install faker\n",
    "#pandas==2.0.3\n",
    "!pip install azure-storage-file-datalake"
   ]
  },
  {
   "cell_type": "markdown",
   "id": "cd4f2a5d",
   "metadata": {},
   "source": [
    "## Import Necessary Libraries\n",
    "For this project we will be using the Faker Library to generate random data."
   ]
  },
  {
   "cell_type": "code",
   "execution_count": null,
   "id": "34df09cf-bf9c-4a72-b5ea-a1d119c537d4",
   "metadata": {
    "microsoft": {
     "language": "python",
     "language_group": "synapse_pyspark"
    }
   },
   "outputs": [
    {
     "data": {
      "application/vnd.livy.statement-meta+json": {
       "execution_finish_time": "2025-02-02T17:15:03.2236626Z",
       "execution_start_time": "2025-02-02T17:15:02.8601642Z",
       "livy_statement_state": "available",
       "normalized_state": "finished",
       "parent_msg_id": "47077fa9-111e-4000-bfe9-96051b6bb9d5",
       "queued_time": "2025-02-02T17:15:02.6148425Z",
       "session_id": "88a22cf6-2786-4de4-bf71-3e9b5d3b2d5d",
       "session_start_time": null,
       "spark_pool": null,
       "state": "finished",
       "statement_id": 28,
       "statement_ids": [
        28
       ]
      },
      "text/plain": [
       "StatementMeta(, 88a22cf6-2786-4de4-bf71-3e9b5d3b2d5d, 28, Finished, Available, Finished)"
      ]
     },
     "metadata": {},
     "output_type": "display_data"
    }
   ],
   "source": [
    "from datetime import datetime\n",
    "from typing import List, Dict\n",
    "from faker import Faker\n",
    "import pandas as pd\n",
    "import os\n",
    "import uuid"
   ]
  },
  {
   "cell_type": "markdown",
   "id": "29f05317",
   "metadata": {},
   "source": [
    "## Function Generate Random Data\n",
    "This function/method is used in generating the random data used for this project"
   ]
  },
  {
   "cell_type": "code",
   "execution_count": null,
   "id": "653cb60b-c5d9-45d2-90e3-fd0b953a971a",
   "metadata": {
    "microsoft": {
     "language": "python",
     "language_group": "synapse_pyspark"
    }
   },
   "outputs": [
    {
     "data": {
      "application/vnd.livy.statement-meta+json": {
       "execution_finish_time": "2025-02-02T17:15:05.9891727Z",
       "execution_start_time": "2025-02-02T17:15:05.7262391Z",
       "livy_statement_state": "available",
       "normalized_state": "finished",
       "parent_msg_id": "027cd7c8-4504-4d58-9d1a-b6fb1409ba17",
       "queued_time": "2025-02-02T17:15:05.5771227Z",
       "session_id": "88a22cf6-2786-4de4-bf71-3e9b5d3b2d5d",
       "session_start_time": null,
       "spark_pool": null,
       "state": "finished",
       "statement_id": 29,
       "statement_ids": [
        29
       ]
      },
      "text/plain": [
       "StatementMeta(, 88a22cf6-2786-4de4-bf71-3e9b5d3b2d5d, 29, Finished, Available, Finished)"
      ]
     },
     "metadata": {},
     "output_type": "display_data"
    }
   ],
   "source": [
    "def generate_task_logs(num_records: int, batch_size: int = 100000) -> List[Dict]:\n",
    "    \"\"\"Generate fake task log records using Faker\"\"\"\n",
    "    fake = Faker()\n",
    "    records = []\n",
    "    \n",
    "    priority_levels = ['High', 'Medium', 'Low']\n",
    "    status_options = ['Completed', 'Failed', 'In Progress']\n",
    "    \n",
    "    for _ in range(num_records):\n",
    "        # Generate random timestamps with end_time always after start_time\n",
    "        start_time = fake.date_time_this_year().timestamp() * 1000  # Convert to milliseconds\n",
    "        end_time = start_time + (fake.random_int(min=1800, max=28800) * 1000)  # Add 30 mins to 8 hours\n",
    "        \n",
    "        record = {\n",
    "            'task_id': str(uuid.uuid4()),\n",
    "            'project_name': fake.word(),\n",
    "            'employee_id': fake.random_int(min=1000, max=9999),\n",
    "            'task_type': fake.random_element(['Development', 'Testing', 'Design', 'Documentation']),\n",
    "            'priority': fake.random_element(priority_levels),\n",
    "            'status': fake.random_element(status_options),\n",
    "            'hours_logged': fake.random_int(min=1, max=8),\n",
    "            'start_time': start_time,\n",
    "            'end_time': end_time\n",
    "        }\n",
    "        records.append(record)\n",
    "        \n",
    "        if len(records) >= batch_size:\n",
    "            yield records\n",
    "            records = []\n",
    "    \n",
    "    if records:\n",
    "        yield records"
   ]
  },
  {
   "cell_type": "markdown",
   "id": "2974fc00",
   "metadata": {},
   "source": [
    "## Save as Parquet in Lakehouse"
   ]
  },
  {
   "cell_type": "code",
   "execution_count": null,
   "id": "a2065fb8-5ab2-4286-a27d-e30aa4c6af06",
   "metadata": {
    "microsoft": {
     "language": "python",
     "language_group": "synapse_pyspark"
    }
   },
   "outputs": [
    {
     "data": {
      "application/vnd.livy.statement-meta+json": {
       "execution_finish_time": "2025-02-02T17:15:07.716376Z",
       "execution_start_time": "2025-02-02T17:15:07.466311Z",
       "livy_statement_state": "available",
       "normalized_state": "finished",
       "parent_msg_id": "e71c1df4-fb55-4779-a446-90504be4eb84",
       "queued_time": "2025-02-02T17:15:07.3108068Z",
       "session_id": "88a22cf6-2786-4de4-bf71-3e9b5d3b2d5d",
       "session_start_time": null,
       "spark_pool": null,
       "state": "finished",
       "statement_id": 30,
       "statement_ids": [
        30
       ]
      },
      "text/plain": [
       "StatementMeta(, 88a22cf6-2786-4de4-bf71-3e9b5d3b2d5d, 30, Finished, Available, Finished)"
      ]
     },
     "metadata": {},
     "output_type": "display_data"
    }
   ],
   "source": [
    "def save_to_parquet(df: pd.DataFrame, output_dir: str, batch_num: int):\n",
    "    \"\"\"Save DataFrame as parquet file\"\"\"\n",
    "    try:\n",
    "        # Create directory if it doesn't exist\n",
    "        os.makedirs(output_dir, exist_ok=True)\n",
    "        \n",
    "        # Generate filename with timestamp\n",
    "        timestamp = datetime.utcnow().strftime('%Y%m%d_%H%M%S')\n",
    "        file_name = f\"task_logs_{timestamp}_batch_{batch_num:04d}.parquet\"\n",
    "        file_path = os.path.join(output_dir, file_name)\n",
    "        \n",
    "        # Save as parquet\n",
    "        df.to_parquet(file_path, index=False)\n",
    "        \n",
    "        print(f\"Successfully saved batch {batch_num:04d} to {file_path}\")\n",
    "        \n",
    "    except Exception as e:\n",
    "        print(f\"Error saving parquet file: {str(e)}\")\n",
    "        raise"
   ]
  },
  {
   "cell_type": "markdown",
   "id": "c0e45250",
   "metadata": {},
   "source": [
    "## Run Entire Function"
   ]
  },
  {
   "cell_type": "code",
   "execution_count": null,
   "id": "40541d2d-5d15-4721-84d0-3269ad7f717f",
   "metadata": {
    "microsoft": {
     "language": "python",
     "language_group": "synapse_pyspark"
    }
   },
   "outputs": [
    {
     "data": {
      "application/vnd.livy.statement-meta+json": {
       "execution_finish_time": "2025-02-02T17:15:09.5846651Z",
       "execution_start_time": "2025-02-02T17:15:09.2762647Z",
       "livy_statement_state": "available",
       "normalized_state": "finished",
       "parent_msg_id": "5d8021aa-1809-4545-b892-695d3657766e",
       "queued_time": "2025-02-02T17:15:09.1358808Z",
       "session_id": "88a22cf6-2786-4de4-bf71-3e9b5d3b2d5d",
       "session_start_time": null,
       "spark_pool": null,
       "state": "finished",
       "statement_id": 31,
       "statement_ids": [
        31
       ]
      },
      "text/plain": [
       "StatementMeta(, 88a22cf6-2786-4de4-bf71-3e9b5d3b2d5d, 31, Finished, Available, Finished)"
      ]
     },
     "metadata": {},
     "output_type": "display_data"
    }
   ],
   "source": [
    "def main():\n",
    "    # Configuration\n",
    "    total_records = 20_000_000  # 20 million records\n",
    "    batch_size = 100_000  # 100k records per batch\n",
    "    output_directory = \"/lakehouse/default/Files/data_log/\"\n",
    "    \n",
    "    try:\n",
    "        processed_records = 0\n",
    "        for batch_num, batch_records in enumerate(generate_task_logs(total_records, batch_size)):\n",
    "            # Convert batch to DataFrame\n",
    "            pandas_df = pd.DataFrame(batch_records)\n",
    "            \n",
    "            # Save to parquet\n",
    "            save_to_parquet(pandas_df, output_directory, batch_num)\n",
    "            \n",
    "            processed_records += len(batch_records)\n",
    "            completion_percentage = (processed_records / total_records) * 100\n",
    "            \n",
    "            print(f\"Progress: {completion_percentage:.2f}% ({processed_records:,} / {total_records:,} records)\")\n",
    "            \n",
    "    except Exception as e:\n",
    "        print(f\"Error processing data: {str(e)}\")\n",
    "        raise\n"
   ]
  },
  {
   "cell_type": "code",
   "execution_count": null,
   "id": "45e43a2b-5935-4b88-b47e-512db25c11ec",
   "metadata": {
    "microsoft": {
     "language": "python",
     "language_group": "synapse_pyspark"
    }
   },
   "outputs": [
    {
     "data": {
      "application/vnd.livy.statement-meta+json": {
       "execution_finish_time": null,
       "execution_start_time": "2025-02-02T17:15:12.3646366Z",
       "livy_statement_state": "running",
       "normalized_state": "running",
       "parent_msg_id": "c910aa31-99f1-428d-8d7b-4f1d5904821a",
       "queued_time": "2025-02-02T17:15:12.2178432Z",
       "session_id": "88a22cf6-2786-4de4-bf71-3e9b5d3b2d5d",
       "session_start_time": null,
       "spark_pool": null,
       "state": "submitted",
       "statement_id": 32,
       "statement_ids": [
        32
       ]
      },
      "text/plain": [
       "StatementMeta(, 88a22cf6-2786-4de4-bf71-3e9b5d3b2d5d, 32, Submitted, Running, Running)"
      ]
     },
     "metadata": {},
     "output_type": "display_data"
    },
    {
     "name": "stdout",
     "output_type": "stream",
     "text": [
      "Successfully saved batch 0000 to /lakehouse/default/Files/data_log/task_logs_20250202_171518_batch_0000.parquet\n",
      "Progress: 0.50% (100,000 / 20,000,000 records)\n",
      "Successfully saved batch 0001 to /lakehouse/default/Files/data_log/task_logs_20250202_171526_batch_0001.parquet\n",
      "Progress: 1.00% (200,000 / 20,000,000 records)\n",
      "Successfully saved batch 0002 to /lakehouse/default/Files/data_log/task_logs_20250202_171532_batch_0002.parquet\n",
      "Progress: 1.50% (300,000 / 20,000,000 records)\n",
      "Successfully saved batch 0003 to /lakehouse/default/Files/data_log/task_logs_20250202_171538_batch_0003.parquet\n",
      "Progress: 2.00% (400,000 / 20,000,000 records)\n",
      "Successfully saved batch 0004 to /lakehouse/default/Files/data_log/task_logs_20250202_171545_batch_0004.parquet\n",
      "Progress: 2.50% (500,000 / 20,000,000 records)\n",
      "Successfully saved batch 0005 to /lakehouse/default/Files/data_log/task_logs_20250202_171551_batch_0005.parquet\n",
      "Progress: 3.00% (600,000 / 20,000,000 records)\n",
      "Successfully saved batch 0006 to /lakehouse/default/Files/data_log/task_logs_20250202_171557_batch_0006.parquet\n",
      "Progress: 3.50% (700,000 / 20,000,000 records)\n",
      "Successfully saved batch 0007 to /lakehouse/default/Files/data_log/task_logs_20250202_171603_batch_0007.parquet\n",
      "Progress: 4.00% (800,000 / 20,000,000 records)\n",
      "Successfully saved batch 0008 to /lakehouse/default/Files/data_log/task_logs_20250202_171610_batch_0008.parquet\n",
      "Progress: 4.50% (900,000 / 20,000,000 records)\n",
      "Successfully saved batch 0009 to /lakehouse/default/Files/data_log/task_logs_20250202_171616_batch_0009.parquet\n",
      "Progress: 5.00% (1,000,000 / 20,000,000 records)\n",
      "Successfully saved batch 0010 to /lakehouse/default/Files/data_log/task_logs_20250202_171622_batch_0010.parquet\n",
      "Progress: 5.50% (1,100,000 / 20,000,000 records)\n",
      "Successfully saved batch 0011 to /lakehouse/default/Files/data_log/task_logs_20250202_171628_batch_0011.parquet\n",
      "Progress: 6.00% (1,200,000 / 20,000,000 records)\n",
      "Successfully saved batch 0012 to /lakehouse/default/Files/data_log/task_logs_20250202_171635_batch_0012.parquet\n",
      "Progress: 6.50% (1,300,000 / 20,000,000 records)\n",
      "Successfully saved batch 0013 to /lakehouse/default/Files/data_log/task_logs_20250202_171641_batch_0013.parquet\n",
      "Progress: 7.00% (1,400,000 / 20,000,000 records)\n",
      "Successfully saved batch 0014 to /lakehouse/default/Files/data_log/task_logs_20250202_171647_batch_0014.parquet\n",
      "Progress: 7.50% (1,500,000 / 20,000,000 records)\n",
      "Successfully saved batch 0015 to /lakehouse/default/Files/data_log/task_logs_20250202_171653_batch_0015.parquet\n",
      "Progress: 8.00% (1,600,000 / 20,000,000 records)\n"
     ]
    },
    {
     "name": "stdout",
     "output_type": "stream",
     "text": [
      "Successfully saved batch 0016 to /lakehouse/default/Files/data_log/task_logs_20250202_171659_batch_0016.parquet\n",
      "Progress: 8.50% (1,700,000 / 20,000,000 records)\n"
     ]
    },
    {
     "name": "stdout",
     "output_type": "stream",
     "text": [
      "Successfully saved batch 0017 to /lakehouse/default/Files/data_log/task_logs_20250202_171706_batch_0017.parquet\n",
      "Progress: 9.00% (1,800,000 / 20,000,000 records)\n"
     ]
    },
    {
     "name": "stdout",
     "output_type": "stream",
     "text": [
      "Successfully saved batch 0018 to /lakehouse/default/Files/data_log/task_logs_20250202_171712_batch_0018.parquet\n",
      "Progress: 9.50% (1,900,000 / 20,000,000 records)\n"
     ]
    },
    {
     "name": "stdout",
     "output_type": "stream",
     "text": [
      "Successfully saved batch 0019 to /lakehouse/default/Files/data_log/task_logs_20250202_171718_batch_0019.parquet\n",
      "Progress: 10.00% (2,000,000 / 20,000,000 records)\n"
     ]
    },
    {
     "name": "stdout",
     "output_type": "stream",
     "text": [
      "Successfully saved batch 0020 to /lakehouse/default/Files/data_log/task_logs_20250202_171725_batch_0020.parquet\n",
      "Progress: 10.50% (2,100,000 / 20,000,000 records)\n"
     ]
    },
    {
     "name": "stdout",
     "output_type": "stream",
     "text": [
      "Successfully saved batch 0021 to /lakehouse/default/Files/data_log/task_logs_20250202_171731_batch_0021.parquet\n",
      "Progress: 11.00% (2,200,000 / 20,000,000 records)\n"
     ]
    },
    {
     "name": "stdout",
     "output_type": "stream",
     "text": [
      "Successfully saved batch 0022 to /lakehouse/default/Files/data_log/task_logs_20250202_171737_batch_0022.parquet\n",
      "Progress: 11.50% (2,300,000 / 20,000,000 records)\n"
     ]
    },
    {
     "name": "stdout",
     "output_type": "stream",
     "text": [
      "Successfully saved batch 0023 to /lakehouse/default/Files/data_log/task_logs_20250202_171744_batch_0023.parquet\n",
      "Progress: 12.00% (2,400,000 / 20,000,000 records)\n"
     ]
    },
    {
     "name": "stdout",
     "output_type": "stream",
     "text": [
      "Successfully saved batch 0024 to /lakehouse/default/Files/data_log/task_logs_20250202_171750_batch_0024.parquet\n",
      "Progress: 12.50% (2,500,000 / 20,000,000 records)\n"
     ]
    },
    {
     "name": "stdout",
     "output_type": "stream",
     "text": [
      "Successfully saved batch 0025 to /lakehouse/default/Files/data_log/task_logs_20250202_171756_batch_0025.parquet\n",
      "Progress: 13.00% (2,600,000 / 20,000,000 records)\n"
     ]
    },
    {
     "name": "stdout",
     "output_type": "stream",
     "text": [
      "Successfully saved batch 0026 to /lakehouse/default/Files/data_log/task_logs_20250202_171802_batch_0026.parquet\n",
      "Progress: 13.50% (2,700,000 / 20,000,000 records)\n"
     ]
    },
    {
     "name": "stdout",
     "output_type": "stream",
     "text": [
      "Successfully saved batch 0027 to /lakehouse/default/Files/data_log/task_logs_20250202_171808_batch_0027.parquet\n",
      "Progress: 14.00% (2,800,000 / 20,000,000 records)\n"
     ]
    },
    {
     "name": "stdout",
     "output_type": "stream",
     "text": [
      "Successfully saved batch 0028 to /lakehouse/default/Files/data_log/task_logs_20250202_171815_batch_0028.parquet\n",
      "Progress: 14.50% (2,900,000 / 20,000,000 records)\n"
     ]
    },
    {
     "name": "stdout",
     "output_type": "stream",
     "text": [
      "Successfully saved batch 0029 to /lakehouse/default/Files/data_log/task_logs_20250202_171821_batch_0029.parquet\n",
      "Progress: 15.00% (3,000,000 / 20,000,000 records)\n"
     ]
    },
    {
     "name": "stdout",
     "output_type": "stream",
     "text": [
      "Successfully saved batch 0030 to /lakehouse/default/Files/data_log/task_logs_20250202_171827_batch_0030.parquet\n",
      "Progress: 15.50% (3,100,000 / 20,000,000 records)\n"
     ]
    },
    {
     "name": "stdout",
     "output_type": "stream",
     "text": [
      "Successfully saved batch 0031 to /lakehouse/default/Files/data_log/task_logs_20250202_171833_batch_0031.parquet\n",
      "Progress: 16.00% (3,200,000 / 20,000,000 records)\n"
     ]
    },
    {
     "name": "stdout",
     "output_type": "stream",
     "text": [
      "Successfully saved batch 0032 to /lakehouse/default/Files/data_log/task_logs_20250202_171839_batch_0032.parquet\n",
      "Progress: 16.50% (3,300,000 / 20,000,000 records)\n"
     ]
    },
    {
     "name": "stdout",
     "output_type": "stream",
     "text": [
      "Successfully saved batch 0033 to /lakehouse/default/Files/data_log/task_logs_20250202_171846_batch_0033.parquet\n",
      "Progress: 17.00% (3,400,000 / 20,000,000 records)\n"
     ]
    },
    {
     "name": "stdout",
     "output_type": "stream",
     "text": [
      "Successfully saved batch 0034 to /lakehouse/default/Files/data_log/task_logs_20250202_171852_batch_0034.parquet\n",
      "Progress: 17.50% (3,500,000 / 20,000,000 records)\n"
     ]
    },
    {
     "name": "stdout",
     "output_type": "stream",
     "text": [
      "Successfully saved batch 0035 to /lakehouse/default/Files/data_log/task_logs_20250202_171858_batch_0035.parquet\n",
      "Progress: 18.00% (3,600,000 / 20,000,000 records)\n"
     ]
    },
    {
     "name": "stdout",
     "output_type": "stream",
     "text": [
      "Successfully saved batch 0036 to /lakehouse/default/Files/data_log/task_logs_20250202_171905_batch_0036.parquet\n",
      "Progress: 18.50% (3,700,000 / 20,000,000 records)\n"
     ]
    },
    {
     "name": "stdout",
     "output_type": "stream",
     "text": [
      "Successfully saved batch 0037 to /lakehouse/default/Files/data_log/task_logs_20250202_171911_batch_0037.parquet\n",
      "Progress: 19.00% (3,800,000 / 20,000,000 records)\n"
     ]
    },
    {
     "name": "stdout",
     "output_type": "stream",
     "text": [
      "Successfully saved batch 0038 to /lakehouse/default/Files/data_log/task_logs_20250202_171917_batch_0038.parquet\n",
      "Progress: 19.50% (3,900,000 / 20,000,000 records)\n"
     ]
    },
    {
     "name": "stdout",
     "output_type": "stream",
     "text": [
      "Successfully saved batch 0039 to /lakehouse/default/Files/data_log/task_logs_20250202_171923_batch_0039.parquet\n",
      "Progress: 20.00% (4,000,000 / 20,000,000 records)\n"
     ]
    },
    {
     "name": "stdout",
     "output_type": "stream",
     "text": [
      "Successfully saved batch 0040 to /lakehouse/default/Files/data_log/task_logs_20250202_171930_batch_0040.parquet\n",
      "Progress: 20.50% (4,100,000 / 20,000,000 records)\n"
     ]
    },
    {
     "name": "stdout",
     "output_type": "stream",
     "text": [
      "Successfully saved batch 0041 to /lakehouse/default/Files/data_log/task_logs_20250202_171936_batch_0041.parquet\n",
      "Progress: 21.00% (4,200,000 / 20,000,000 records)\n"
     ]
    },
    {
     "name": "stdout",
     "output_type": "stream",
     "text": [
      "Successfully saved batch 0042 to /lakehouse/default/Files/data_log/task_logs_20250202_171942_batch_0042.parquet\n",
      "Progress: 21.50% (4,300,000 / 20,000,000 records)\n"
     ]
    },
    {
     "name": "stdout",
     "output_type": "stream",
     "text": [
      "Successfully saved batch 0043 to /lakehouse/default/Files/data_log/task_logs_20250202_171948_batch_0043.parquet\n",
      "Progress: 22.00% (4,400,000 / 20,000,000 records)\n"
     ]
    },
    {
     "name": "stdout",
     "output_type": "stream",
     "text": [
      "Successfully saved batch 0044 to /lakehouse/default/Files/data_log/task_logs_20250202_171954_batch_0044.parquet\n",
      "Progress: 22.50% (4,500,000 / 20,000,000 records)\n"
     ]
    },
    {
     "name": "stdout",
     "output_type": "stream",
     "text": [
      "Successfully saved batch 0045 to /lakehouse/default/Files/data_log/task_logs_20250202_172001_batch_0045.parquet\n",
      "Progress: 23.00% (4,600,000 / 20,000,000 records)\n",
      "Successfully saved batch 0046 to /lakehouse/default/Files/data_log/task_logs_20250202_172007_batch_0046.parquet\n",
      "Progress: 23.50% (4,700,000 / 20,000,000 records)\n",
      "Successfully saved batch 0047 to /lakehouse/default/Files/data_log/task_logs_20250202_172013_batch_0047.parquet\n",
      "Progress: 24.00% (4,800,000 / 20,000,000 records)\n",
      "Successfully saved batch 0048 to /lakehouse/default/Files/data_log/task_logs_20250202_172019_batch_0048.parquet\n",
      "Progress: 24.50% (4,900,000 / 20,000,000 records)\n"
     ]
    },
    {
     "name": "stdout",
     "output_type": "stream",
     "text": [
      "Successfully saved batch 0049 to /lakehouse/default/Files/data_log/task_logs_20250202_172026_batch_0049.parquet\n",
      "Progress: 25.00% (5,000,000 / 20,000,000 records)\n"
     ]
    },
    {
     "name": "stdout",
     "output_type": "stream",
     "text": [
      "Successfully saved batch 0050 to /lakehouse/default/Files/data_log/task_logs_20250202_172032_batch_0050.parquet\n",
      "Progress: 25.50% (5,100,000 / 20,000,000 records)\n"
     ]
    },
    {
     "name": "stdout",
     "output_type": "stream",
     "text": [
      "Successfully saved batch 0051 to /lakehouse/default/Files/data_log/task_logs_20250202_172038_batch_0051.parquet\n",
      "Progress: 26.00% (5,200,000 / 20,000,000 records)\n"
     ]
    },
    {
     "name": "stdout",
     "output_type": "stream",
     "text": [
      "Successfully saved batch 0052 to /lakehouse/default/Files/data_log/task_logs_20250202_172044_batch_0052.parquet\n",
      "Progress: 26.50% (5,300,000 / 20,000,000 records)\n"
     ]
    },
    {
     "name": "stdout",
     "output_type": "stream",
     "text": [
      "Successfully saved batch 0053 to /lakehouse/default/Files/data_log/task_logs_20250202_172050_batch_0053.parquet\n",
      "Progress: 27.00% (5,400,000 / 20,000,000 records)\n"
     ]
    },
    {
     "name": "stdout",
     "output_type": "stream",
     "text": [
      "Successfully saved batch 0054 to /lakehouse/default/Files/data_log/task_logs_20250202_172056_batch_0054.parquet\n",
      "Progress: 27.50% (5,500,000 / 20,000,000 records)\n"
     ]
    },
    {
     "name": "stdout",
     "output_type": "stream",
     "text": [
      "Successfully saved batch 0055 to /lakehouse/default/Files/data_log/task_logs_20250202_172103_batch_0055.parquet\n",
      "Progress: 28.00% (5,600,000 / 20,000,000 records)\n"
     ]
    },
    {
     "name": "stdout",
     "output_type": "stream",
     "text": [
      "Successfully saved batch 0056 to /lakehouse/default/Files/data_log/task_logs_20250202_172109_batch_0056.parquet\n",
      "Progress: 28.50% (5,700,000 / 20,000,000 records)\n"
     ]
    },
    {
     "name": "stdout",
     "output_type": "stream",
     "text": [
      "Successfully saved batch 0057 to /lakehouse/default/Files/data_log/task_logs_20250202_172116_batch_0057.parquet\n",
      "Progress: 29.00% (5,800,000 / 20,000,000 records)\n"
     ]
    },
    {
     "name": "stdout",
     "output_type": "stream",
     "text": [
      "Successfully saved batch 0058 to /lakehouse/default/Files/data_log/task_logs_20250202_172122_batch_0058.parquet\n",
      "Progress: 29.50% (5,900,000 / 20,000,000 records)\n"
     ]
    },
    {
     "name": "stdout",
     "output_type": "stream",
     "text": [
      "Successfully saved batch 0059 to /lakehouse/default/Files/data_log/task_logs_20250202_172128_batch_0059.parquet\n",
      "Progress: 30.00% (6,000,000 / 20,000,000 records)\n"
     ]
    },
    {
     "name": "stdout",
     "output_type": "stream",
     "text": [
      "Successfully saved batch 0060 to /lakehouse/default/Files/data_log/task_logs_20250202_172135_batch_0060.parquet\n",
      "Progress: 30.50% (6,100,000 / 20,000,000 records)\n"
     ]
    },
    {
     "name": "stdout",
     "output_type": "stream",
     "text": [
      "Successfully saved batch 0061 to /lakehouse/default/Files/data_log/task_logs_20250202_172141_batch_0061.parquet\n",
      "Progress: 31.00% (6,200,000 / 20,000,000 records)\n"
     ]
    },
    {
     "name": "stdout",
     "output_type": "stream",
     "text": [
      "Successfully saved batch 0062 to /lakehouse/default/Files/data_log/task_logs_20250202_172147_batch_0062.parquet\n",
      "Progress: 31.50% (6,300,000 / 20,000,000 records)\n",
      "Successfully saved batch 0063 to /lakehouse/default/Files/data_log/task_logs_20250202_172154_batch_0063.parquet\n",
      "Progress: 32.00% (6,400,000 / 20,000,000 records)\n",
      "Successfully saved batch 0064 to /lakehouse/default/Files/data_log/task_logs_20250202_172200_batch_0064.parquet\n",
      "Progress: 32.50% (6,500,000 / 20,000,000 records)\n"
     ]
    },
    {
     "name": "stdout",
     "output_type": "stream",
     "text": [
      "Successfully saved batch 0065 to /lakehouse/default/Files/data_log/task_logs_20250202_172206_batch_0065.parquet\n",
      "Progress: 33.00% (6,600,000 / 20,000,000 records)\n"
     ]
    },
    {
     "name": "stdout",
     "output_type": "stream",
     "text": [
      "Successfully saved batch 0066 to /lakehouse/default/Files/data_log/task_logs_20250202_172212_batch_0066.parquet\n",
      "Progress: 33.50% (6,700,000 / 20,000,000 records)\n"
     ]
    },
    {
     "name": "stdout",
     "output_type": "stream",
     "text": [
      "Successfully saved batch 0067 to /lakehouse/default/Files/data_log/task_logs_20250202_172219_batch_0067.parquet\n",
      "Progress: 34.00% (6,800,000 / 20,000,000 records)\n"
     ]
    },
    {
     "name": "stdout",
     "output_type": "stream",
     "text": [
      "Successfully saved batch 0068 to /lakehouse/default/Files/data_log/task_logs_20250202_172225_batch_0068.parquet\n",
      "Progress: 34.50% (6,900,000 / 20,000,000 records)\n"
     ]
    },
    {
     "name": "stdout",
     "output_type": "stream",
     "text": [
      "Successfully saved batch 0069 to /lakehouse/default/Files/data_log/task_logs_20250202_172231_batch_0069.parquet\n",
      "Progress: 35.00% (7,000,000 / 20,000,000 records)\n"
     ]
    },
    {
     "name": "stdout",
     "output_type": "stream",
     "text": [
      "Successfully saved batch 0070 to /lakehouse/default/Files/data_log/task_logs_20250202_172237_batch_0070.parquet\n",
      "Progress: 35.50% (7,100,000 / 20,000,000 records)\n"
     ]
    },
    {
     "name": "stdout",
     "output_type": "stream",
     "text": [
      "Successfully saved batch 0071 to /lakehouse/default/Files/data_log/task_logs_20250202_172243_batch_0071.parquet\n",
      "Progress: 36.00% (7,200,000 / 20,000,000 records)\n"
     ]
    },
    {
     "name": "stdout",
     "output_type": "stream",
     "text": [
      "Successfully saved batch 0072 to /lakehouse/default/Files/data_log/task_logs_20250202_172249_batch_0072.parquet\n",
      "Progress: 36.50% (7,300,000 / 20,000,000 records)\n"
     ]
    },
    {
     "name": "stdout",
     "output_type": "stream",
     "text": [
      "Successfully saved batch 0073 to /lakehouse/default/Files/data_log/task_logs_20250202_172256_batch_0073.parquet\n",
      "Progress: 37.00% (7,400,000 / 20,000,000 records)\n"
     ]
    },
    {
     "name": "stdout",
     "output_type": "stream",
     "text": [
      "Successfully saved batch 0074 to /lakehouse/default/Files/data_log/task_logs_20250202_172302_batch_0074.parquet\n",
      "Progress: 37.50% (7,500,000 / 20,000,000 records)\n",
      "Successfully saved batch 0075 to /lakehouse/default/Files/data_log/task_logs_20250202_172308_batch_0075.parquet\n",
      "Progress: 38.00% (7,600,000 / 20,000,000 records)\n"
     ]
    },
    {
     "name": "stdout",
     "output_type": "stream",
     "text": [
      "Successfully saved batch 0076 to /lakehouse/default/Files/data_log/task_logs_20250202_172314_batch_0076.parquet\n",
      "Progress: 38.50% (7,700,000 / 20,000,000 records)\n"
     ]
    },
    {
     "name": "stdout",
     "output_type": "stream",
     "text": [
      "Successfully saved batch 0077 to /lakehouse/default/Files/data_log/task_logs_20250202_172320_batch_0077.parquet\n",
      "Progress: 39.00% (7,800,000 / 20,000,000 records)\n"
     ]
    },
    {
     "name": "stdout",
     "output_type": "stream",
     "text": [
      "Successfully saved batch 0078 to /lakehouse/default/Files/data_log/task_logs_20250202_172327_batch_0078.parquet\n",
      "Progress: 39.50% (7,900,000 / 20,000,000 records)\n"
     ]
    },
    {
     "name": "stdout",
     "output_type": "stream",
     "text": [
      "Successfully saved batch 0079 to /lakehouse/default/Files/data_log/task_logs_20250202_172333_batch_0079.parquet\n",
      "Progress: 40.00% (8,000,000 / 20,000,000 records)\n"
     ]
    },
    {
     "name": "stdout",
     "output_type": "stream",
     "text": [
      "Successfully saved batch 0080 to /lakehouse/default/Files/data_log/task_logs_20250202_172339_batch_0080.parquet\n",
      "Progress: 40.50% (8,100,000 / 20,000,000 records)\n"
     ]
    },
    {
     "name": "stdout",
     "output_type": "stream",
     "text": [
      "Successfully saved batch 0081 to /lakehouse/default/Files/data_log/task_logs_20250202_172345_batch_0081.parquet\n",
      "Progress: 41.00% (8,200,000 / 20,000,000 records)\n"
     ]
    },
    {
     "name": "stdout",
     "output_type": "stream",
     "text": [
      "Successfully saved batch 0082 to /lakehouse/default/Files/data_log/task_logs_20250202_172351_batch_0082.parquet\n",
      "Progress: 41.50% (8,300,000 / 20,000,000 records)\n"
     ]
    },
    {
     "name": "stdout",
     "output_type": "stream",
     "text": [
      "Successfully saved batch 0083 to /lakehouse/default/Files/data_log/task_logs_20250202_172358_batch_0083.parquet\n",
      "Progress: 42.00% (8,400,000 / 20,000,000 records)\n"
     ]
    },
    {
     "name": "stdout",
     "output_type": "stream",
     "text": [
      "Successfully saved batch 0084 to /lakehouse/default/Files/data_log/task_logs_20250202_172404_batch_0084.parquet\n",
      "Progress: 42.50% (8,500,000 / 20,000,000 records)\n"
     ]
    },
    {
     "name": "stdout",
     "output_type": "stream",
     "text": [
      "Successfully saved batch 0085 to /lakehouse/default/Files/data_log/task_logs_20250202_172410_batch_0085.parquet\n",
      "Progress: 43.00% (8,600,000 / 20,000,000 records)\n"
     ]
    },
    {
     "name": "stdout",
     "output_type": "stream",
     "text": [
      "Successfully saved batch 0086 to /lakehouse/default/Files/data_log/task_logs_20250202_172417_batch_0086.parquet\n",
      "Progress: 43.50% (8,700,000 / 20,000,000 records)\n"
     ]
    },
    {
     "name": "stdout",
     "output_type": "stream",
     "text": [
      "Successfully saved batch 0087 to /lakehouse/default/Files/data_log/task_logs_20250202_172423_batch_0087.parquet\n",
      "Progress: 44.00% (8,800,000 / 20,000,000 records)\n"
     ]
    },
    {
     "name": "stdout",
     "output_type": "stream",
     "text": [
      "Successfully saved batch 0088 to /lakehouse/default/Files/data_log/task_logs_20250202_172429_batch_0088.parquet\n",
      "Progress: 44.50% (8,900,000 / 20,000,000 records)\n"
     ]
    },
    {
     "name": "stdout",
     "output_type": "stream",
     "text": [
      "Successfully saved batch 0089 to /lakehouse/default/Files/data_log/task_logs_20250202_172435_batch_0089.parquet\n",
      "Progress: 45.00% (9,000,000 / 20,000,000 records)\n",
      "Successfully saved batch 0090 to /lakehouse/default/Files/data_log/task_logs_20250202_172442_batch_0090.parquet\n",
      "Progress: 45.50% (9,100,000 / 20,000,000 records)\n"
     ]
    },
    {
     "name": "stdout",
     "output_type": "stream",
     "text": [
      "Successfully saved batch 0091 to /lakehouse/default/Files/data_log/task_logs_20250202_172448_batch_0091.parquet\n",
      "Progress: 46.00% (9,200,000 / 20,000,000 records)\n",
      "Successfully saved batch 0092 to /lakehouse/default/Files/data_log/task_logs_20250202_172454_batch_0092.parquet\n",
      "Progress: 46.50% (9,300,000 / 20,000,000 records)\n"
     ]
    },
    {
     "name": "stdout",
     "output_type": "stream",
     "text": [
      "Successfully saved batch 0093 to /lakehouse/default/Files/data_log/task_logs_20250202_172501_batch_0093.parquet\n",
      "Progress: 47.00% (9,400,000 / 20,000,000 records)\n"
     ]
    },
    {
     "name": "stdout",
     "output_type": "stream",
     "text": [
      "Successfully saved batch 0094 to /lakehouse/default/Files/data_log/task_logs_20250202_172507_batch_0094.parquet\n",
      "Progress: 47.50% (9,500,000 / 20,000,000 records)\n"
     ]
    },
    {
     "name": "stdout",
     "output_type": "stream",
     "text": [
      "Successfully saved batch 0095 to /lakehouse/default/Files/data_log/task_logs_20250202_172513_batch_0095.parquet\n",
      "Progress: 48.00% (9,600,000 / 20,000,000 records)\n"
     ]
    },
    {
     "name": "stdout",
     "output_type": "stream",
     "text": [
      "Successfully saved batch 0096 to /lakehouse/default/Files/data_log/task_logs_20250202_172519_batch_0096.parquet\n",
      "Progress: 48.50% (9,700,000 / 20,000,000 records)\n"
     ]
    },
    {
     "name": "stdout",
     "output_type": "stream",
     "text": [
      "Successfully saved batch 0097 to /lakehouse/default/Files/data_log/task_logs_20250202_172526_batch_0097.parquet\n",
      "Progress: 49.00% (9,800,000 / 20,000,000 records)\n"
     ]
    },
    {
     "name": "stdout",
     "output_type": "stream",
     "text": [
      "Successfully saved batch 0098 to /lakehouse/default/Files/data_log/task_logs_20250202_172532_batch_0098.parquet\n",
      "Progress: 49.50% (9,900,000 / 20,000,000 records)\n"
     ]
    },
    {
     "name": "stdout",
     "output_type": "stream",
     "text": [
      "Successfully saved batch 0099 to /lakehouse/default/Files/data_log/task_logs_20250202_172538_batch_0099.parquet\n",
      "Progress: 50.00% (10,000,000 / 20,000,000 records)\n"
     ]
    },
    {
     "name": "stdout",
     "output_type": "stream",
     "text": [
      "Successfully saved batch 0100 to /lakehouse/default/Files/data_log/task_logs_20250202_172545_batch_0100.parquet\n",
      "Progress: 50.50% (10,100,000 / 20,000,000 records)\n"
     ]
    },
    {
     "name": "stdout",
     "output_type": "stream",
     "text": [
      "Successfully saved batch 0101 to /lakehouse/default/Files/data_log/task_logs_20250202_172551_batch_0101.parquet\n",
      "Progress: 51.00% (10,200,000 / 20,000,000 records)\n"
     ]
    },
    {
     "name": "stdout",
     "output_type": "stream",
     "text": [
      "Successfully saved batch 0102 to /lakehouse/default/Files/data_log/task_logs_20250202_172558_batch_0102.parquet\n",
      "Progress: 51.50% (10,300,000 / 20,000,000 records)\n"
     ]
    },
    {
     "name": "stdout",
     "output_type": "stream",
     "text": [
      "Successfully saved batch 0103 to /lakehouse/default/Files/data_log/task_logs_20250202_172604_batch_0103.parquet\n",
      "Progress: 52.00% (10,400,000 / 20,000,000 records)\n",
      "Successfully saved batch 0104 to /lakehouse/default/Files/data_log/task_logs_20250202_172610_batch_0104.parquet\n",
      "Progress: 52.50% (10,500,000 / 20,000,000 records)\n",
      "Successfully saved batch 0105 to /lakehouse/default/Files/data_log/task_logs_20250202_172616_batch_0105.parquet\n",
      "Progress: 53.00% (10,600,000 / 20,000,000 records)\n",
      "Successfully saved batch 0106 to /lakehouse/default/Files/data_log/task_logs_20250202_172623_batch_0106.parquet\n",
      "Progress: 53.50% (10,700,000 / 20,000,000 records)\n",
      "Successfully saved batch 0107 to /lakehouse/default/Files/data_log/task_logs_20250202_172629_batch_0107.parquet\n",
      "Progress: 54.00% (10,800,000 / 20,000,000 records)\n"
     ]
    },
    {
     "name": "stdout",
     "output_type": "stream",
     "text": [
      "Successfully saved batch 0108 to /lakehouse/default/Files/data_log/task_logs_20250202_172635_batch_0108.parquet\n",
      "Progress: 54.50% (10,900,000 / 20,000,000 records)\n"
     ]
    },
    {
     "name": "stdout",
     "output_type": "stream",
     "text": [
      "Successfully saved batch 0109 to /lakehouse/default/Files/data_log/task_logs_20250202_172641_batch_0109.parquet\n",
      "Progress: 55.00% (11,000,000 / 20,000,000 records)\n"
     ]
    },
    {
     "name": "stdout",
     "output_type": "stream",
     "text": [
      "Successfully saved batch 0110 to /lakehouse/default/Files/data_log/task_logs_20250202_172648_batch_0110.parquet\n",
      "Progress: 55.50% (11,100,000 / 20,000,000 records)\n"
     ]
    },
    {
     "name": "stdout",
     "output_type": "stream",
     "text": [
      "Successfully saved batch 0111 to /lakehouse/default/Files/data_log/task_logs_20250202_172654_batch_0111.parquet\n",
      "Progress: 56.00% (11,200,000 / 20,000,000 records)\n"
     ]
    },
    {
     "name": "stdout",
     "output_type": "stream",
     "text": [
      "Successfully saved batch 0112 to /lakehouse/default/Files/data_log/task_logs_20250202_172700_batch_0112.parquet\n",
      "Progress: 56.50% (11,300,000 / 20,000,000 records)\n"
     ]
    },
    {
     "name": "stdout",
     "output_type": "stream",
     "text": [
      "Successfully saved batch 0113 to /lakehouse/default/Files/data_log/task_logs_20250202_172706_batch_0113.parquet\n",
      "Progress: 57.00% (11,400,000 / 20,000,000 records)\n"
     ]
    },
    {
     "name": "stdout",
     "output_type": "stream",
     "text": [
      "Successfully saved batch 0114 to /lakehouse/default/Files/data_log/task_logs_20250202_172713_batch_0114.parquet\n",
      "Progress: 57.50% (11,500,000 / 20,000,000 records)\n"
     ]
    },
    {
     "name": "stdout",
     "output_type": "stream",
     "text": [
      "Successfully saved batch 0115 to /lakehouse/default/Files/data_log/task_logs_20250202_172719_batch_0115.parquet\n",
      "Progress: 58.00% (11,600,000 / 20,000,000 records)\n"
     ]
    },
    {
     "name": "stdout",
     "output_type": "stream",
     "text": [
      "Successfully saved batch 0116 to /lakehouse/default/Files/data_log/task_logs_20250202_172725_batch_0116.parquet\n",
      "Progress: 58.50% (11,700,000 / 20,000,000 records)\n"
     ]
    },
    {
     "name": "stdout",
     "output_type": "stream",
     "text": [
      "Successfully saved batch 0117 to /lakehouse/default/Files/data_log/task_logs_20250202_172731_batch_0117.parquet\n",
      "Progress: 59.00% (11,800,000 / 20,000,000 records)\n"
     ]
    },
    {
     "name": "stdout",
     "output_type": "stream",
     "text": [
      "Successfully saved batch 0118 to /lakehouse/default/Files/data_log/task_logs_20250202_172737_batch_0118.parquet\n",
      "Progress: 59.50% (11,900,000 / 20,000,000 records)\n"
     ]
    },
    {
     "name": "stdout",
     "output_type": "stream",
     "text": [
      "Successfully saved batch 0119 to /lakehouse/default/Files/data_log/task_logs_20250202_172743_batch_0119.parquet\n",
      "Progress: 60.00% (12,000,000 / 20,000,000 records)\n"
     ]
    },
    {
     "name": "stdout",
     "output_type": "stream",
     "text": [
      "Successfully saved batch 0120 to /lakehouse/default/Files/data_log/task_logs_20250202_172750_batch_0120.parquet\n",
      "Progress: 60.50% (12,100,000 / 20,000,000 records)\n"
     ]
    },
    {
     "name": "stdout",
     "output_type": "stream",
     "text": [
      "Successfully saved batch 0121 to /lakehouse/default/Files/data_log/task_logs_20250202_172756_batch_0121.parquet\n",
      "Progress: 61.00% (12,200,000 / 20,000,000 records)\n"
     ]
    },
    {
     "name": "stdout",
     "output_type": "stream",
     "text": [
      "Successfully saved batch 0122 to /lakehouse/default/Files/data_log/task_logs_20250202_172802_batch_0122.parquet\n",
      "Progress: 61.50% (12,300,000 / 20,000,000 records)\n"
     ]
    },
    {
     "name": "stdout",
     "output_type": "stream",
     "text": [
      "Successfully saved batch 0123 to /lakehouse/default/Files/data_log/task_logs_20250202_172809_batch_0123.parquet\n",
      "Progress: 62.00% (12,400,000 / 20,000,000 records)\n"
     ]
    },
    {
     "name": "stdout",
     "output_type": "stream",
     "text": [
      "Successfully saved batch 0124 to /lakehouse/default/Files/data_log/task_logs_20250202_172815_batch_0124.parquet\n",
      "Progress: 62.50% (12,500,000 / 20,000,000 records)\n"
     ]
    },
    {
     "name": "stdout",
     "output_type": "stream",
     "text": [
      "Successfully saved batch 0125 to /lakehouse/default/Files/data_log/task_logs_20250202_172821_batch_0125.parquet\n",
      "Progress: 63.00% (12,600,000 / 20,000,000 records)\n"
     ]
    },
    {
     "name": "stdout",
     "output_type": "stream",
     "text": [
      "Successfully saved batch 0126 to /lakehouse/default/Files/data_log/task_logs_20250202_172828_batch_0126.parquet\n",
      "Progress: 63.50% (12,700,000 / 20,000,000 records)\n"
     ]
    },
    {
     "name": "stdout",
     "output_type": "stream",
     "text": [
      "Successfully saved batch 0127 to /lakehouse/default/Files/data_log/task_logs_20250202_172834_batch_0127.parquet\n",
      "Progress: 64.00% (12,800,000 / 20,000,000 records)\n"
     ]
    },
    {
     "name": "stdout",
     "output_type": "stream",
     "text": [
      "Successfully saved batch 0128 to /lakehouse/default/Files/data_log/task_logs_20250202_172840_batch_0128.parquet\n",
      "Progress: 64.50% (12,900,000 / 20,000,000 records)\n"
     ]
    },
    {
     "name": "stdout",
     "output_type": "stream",
     "text": [
      "Successfully saved batch 0129 to /lakehouse/default/Files/data_log/task_logs_20250202_172846_batch_0129.parquet\n",
      "Progress: 65.00% (13,000,000 / 20,000,000 records)\n"
     ]
    },
    {
     "name": "stdout",
     "output_type": "stream",
     "text": [
      "Successfully saved batch 0130 to /lakehouse/default/Files/data_log/task_logs_20250202_172853_batch_0130.parquet\n",
      "Progress: 65.50% (13,100,000 / 20,000,000 records)\n"
     ]
    },
    {
     "name": "stdout",
     "output_type": "stream",
     "text": [
      "Successfully saved batch 0131 to /lakehouse/default/Files/data_log/task_logs_20250202_172859_batch_0131.parquet\n",
      "Progress: 66.00% (13,200,000 / 20,000,000 records)\n"
     ]
    },
    {
     "name": "stdout",
     "output_type": "stream",
     "text": [
      "Successfully saved batch 0132 to /lakehouse/default/Files/data_log/task_logs_20250202_172905_batch_0132.parquet\n",
      "Progress: 66.50% (13,300,000 / 20,000,000 records)\n"
     ]
    },
    {
     "name": "stdout",
     "output_type": "stream",
     "text": [
      "Successfully saved batch 0133 to /lakehouse/default/Files/data_log/task_logs_20250202_172911_batch_0133.parquet\n",
      "Progress: 67.00% (13,400,000 / 20,000,000 records)\n"
     ]
    },
    {
     "name": "stdout",
     "output_type": "stream",
     "text": [
      "Successfully saved batch 0134 to /lakehouse/default/Files/data_log/task_logs_20250202_172917_batch_0134.parquet\n",
      "Progress: 67.50% (13,500,000 / 20,000,000 records)\n"
     ]
    },
    {
     "name": "stdout",
     "output_type": "stream",
     "text": [
      "Successfully saved batch 0135 to /lakehouse/default/Files/data_log/task_logs_20250202_172924_batch_0135.parquet\n",
      "Progress: 68.00% (13,600,000 / 20,000,000 records)\n"
     ]
    },
    {
     "name": "stdout",
     "output_type": "stream",
     "text": [
      "Successfully saved batch 0136 to /lakehouse/default/Files/data_log/task_logs_20250202_172930_batch_0136.parquet\n",
      "Progress: 68.50% (13,700,000 / 20,000,000 records)\n",
      "Successfully saved batch 0137 to /lakehouse/default/Files/data_log/task_logs_20250202_172936_batch_0137.parquet\n",
      "Progress: 69.00% (13,800,000 / 20,000,000 records)\n",
      "Successfully saved batch 0138 to /lakehouse/default/Files/data_log/task_logs_20250202_172942_batch_0138.parquet\n",
      "Progress: 69.50% (13,900,000 / 20,000,000 records)\n",
      "Successfully saved batch 0139 to /lakehouse/default/Files/data_log/task_logs_20250202_172949_batch_0139.parquet\n",
      "Progress: 70.00% (14,000,000 / 20,000,000 records)\n",
      "Successfully saved batch 0140 to /lakehouse/default/Files/data_log/task_logs_20250202_172955_batch_0140.parquet\n",
      "Progress: 70.50% (14,100,000 / 20,000,000 records)\n",
      "Successfully saved batch 0141 to /lakehouse/default/Files/data_log/task_logs_20250202_173001_batch_0141.parquet\n",
      "Progress: 71.00% (14,200,000 / 20,000,000 records)\n"
     ]
    },
    {
     "name": "stdout",
     "output_type": "stream",
     "text": [
      "Successfully saved batch 0142 to /lakehouse/default/Files/data_log/task_logs_20250202_173007_batch_0142.parquet\n",
      "Progress: 71.50% (14,300,000 / 20,000,000 records)\n",
      "Successfully saved batch 0143 to /lakehouse/default/Files/data_log/task_logs_20250202_173014_batch_0143.parquet\n",
      "Progress: 72.00% (14,400,000 / 20,000,000 records)\n",
      "Successfully saved batch 0144 to /lakehouse/default/Files/data_log/task_logs_20250202_173020_batch_0144.parquet\n",
      "Progress: 72.50% (14,500,000 / 20,000,000 records)\n"
     ]
    },
    {
     "name": "stdout",
     "output_type": "stream",
     "text": [
      "Successfully saved batch 0145 to /lakehouse/default/Files/data_log/task_logs_20250202_173026_batch_0145.parquet\n",
      "Progress: 73.00% (14,600,000 / 20,000,000 records)\n"
     ]
    },
    {
     "name": "stdout",
     "output_type": "stream",
     "text": [
      "Successfully saved batch 0146 to /lakehouse/default/Files/data_log/task_logs_20250202_173032_batch_0146.parquet\n",
      "Progress: 73.50% (14,700,000 / 20,000,000 records)\n"
     ]
    },
    {
     "name": "stdout",
     "output_type": "stream",
     "text": [
      "Successfully saved batch 0147 to /lakehouse/default/Files/data_log/task_logs_20250202_173038_batch_0147.parquet\n",
      "Progress: 74.00% (14,800,000 / 20,000,000 records)\n"
     ]
    },
    {
     "name": "stdout",
     "output_type": "stream",
     "text": [
      "Successfully saved batch 0148 to /lakehouse/default/Files/data_log/task_logs_20250202_173045_batch_0148.parquet\n",
      "Progress: 74.50% (14,900,000 / 20,000,000 records)\n"
     ]
    },
    {
     "name": "stdout",
     "output_type": "stream",
     "text": [
      "Successfully saved batch 0149 to /lakehouse/default/Files/data_log/task_logs_20250202_173051_batch_0149.parquet\n",
      "Progress: 75.00% (15,000,000 / 20,000,000 records)\n"
     ]
    },
    {
     "name": "stdout",
     "output_type": "stream",
     "text": [
      "Successfully saved batch 0150 to /lakehouse/default/Files/data_log/task_logs_20250202_173057_batch_0150.parquet\n",
      "Progress: 75.50% (15,100,000 / 20,000,000 records)\n"
     ]
    },
    {
     "name": "stdout",
     "output_type": "stream",
     "text": [
      "Successfully saved batch 0151 to /lakehouse/default/Files/data_log/task_logs_20250202_173103_batch_0151.parquet\n",
      "Progress: 76.00% (15,200,000 / 20,000,000 records)\n"
     ]
    },
    {
     "name": "stdout",
     "output_type": "stream",
     "text": [
      "Successfully saved batch 0152 to /lakehouse/default/Files/data_log/task_logs_20250202_173110_batch_0152.parquet\n",
      "Progress: 76.50% (15,300,000 / 20,000,000 records)\n"
     ]
    },
    {
     "name": "stdout",
     "output_type": "stream",
     "text": [
      "Successfully saved batch 0153 to /lakehouse/default/Files/data_log/task_logs_20250202_173116_batch_0153.parquet\n",
      "Progress: 77.00% (15,400,000 / 20,000,000 records)\n"
     ]
    },
    {
     "name": "stdout",
     "output_type": "stream",
     "text": [
      "Successfully saved batch 0154 to /lakehouse/default/Files/data_log/task_logs_20250202_173122_batch_0154.parquet\n",
      "Progress: 77.50% (15,500,000 / 20,000,000 records)\n"
     ]
    },
    {
     "name": "stdout",
     "output_type": "stream",
     "text": [
      "Successfully saved batch 0155 to /lakehouse/default/Files/data_log/task_logs_20250202_173128_batch_0155.parquet\n",
      "Progress: 78.00% (15,600,000 / 20,000,000 records)\n"
     ]
    },
    {
     "name": "stdout",
     "output_type": "stream",
     "text": [
      "Successfully saved batch 0156 to /lakehouse/default/Files/data_log/task_logs_20250202_173134_batch_0156.parquet\n",
      "Progress: 78.50% (15,700,000 / 20,000,000 records)\n"
     ]
    },
    {
     "name": "stdout",
     "output_type": "stream",
     "text": [
      "Successfully saved batch 0157 to /lakehouse/default/Files/data_log/task_logs_20250202_173140_batch_0157.parquet\n",
      "Progress: 79.00% (15,800,000 / 20,000,000 records)\n"
     ]
    },
    {
     "name": "stdout",
     "output_type": "stream",
     "text": [
      "Successfully saved batch 0158 to /lakehouse/default/Files/data_log/task_logs_20250202_173147_batch_0158.parquet\n",
      "Progress: 79.50% (15,900,000 / 20,000,000 records)\n"
     ]
    },
    {
     "name": "stdout",
     "output_type": "stream",
     "text": [
      "Successfully saved batch 0159 to /lakehouse/default/Files/data_log/task_logs_20250202_173153_batch_0159.parquet\n",
      "Progress: 80.00% (16,000,000 / 20,000,000 records)\n"
     ]
    },
    {
     "name": "stdout",
     "output_type": "stream",
     "text": [
      "Successfully saved batch 0160 to /lakehouse/default/Files/data_log/task_logs_20250202_173159_batch_0160.parquet\n",
      "Progress: 80.50% (16,100,000 / 20,000,000 records)\n"
     ]
    },
    {
     "name": "stdout",
     "output_type": "stream",
     "text": [
      "Successfully saved batch 0161 to /lakehouse/default/Files/data_log/task_logs_20250202_173206_batch_0161.parquet\n",
      "Progress: 81.00% (16,200,000 / 20,000,000 records)\n"
     ]
    },
    {
     "name": "stdout",
     "output_type": "stream",
     "text": [
      "Successfully saved batch 0162 to /lakehouse/default/Files/data_log/task_logs_20250202_173212_batch_0162.parquet\n",
      "Progress: 81.50% (16,300,000 / 20,000,000 records)\n"
     ]
    },
    {
     "name": "stdout",
     "output_type": "stream",
     "text": [
      "Successfully saved batch 0163 to /lakehouse/default/Files/data_log/task_logs_20250202_173218_batch_0163.parquet\n",
      "Progress: 82.00% (16,400,000 / 20,000,000 records)\n"
     ]
    },
    {
     "name": "stdout",
     "output_type": "stream",
     "text": [
      "Successfully saved batch 0164 to /lakehouse/default/Files/data_log/task_logs_20250202_173224_batch_0164.parquet\n",
      "Progress: 82.50% (16,500,000 / 20,000,000 records)\n"
     ]
    },
    {
     "name": "stdout",
     "output_type": "stream",
     "text": [
      "Successfully saved batch 0165 to /lakehouse/default/Files/data_log/task_logs_20250202_173231_batch_0165.parquet\n",
      "Progress: 83.00% (16,600,000 / 20,000,000 records)\n"
     ]
    },
    {
     "name": "stdout",
     "output_type": "stream",
     "text": [
      "Successfully saved batch 0166 to /lakehouse/default/Files/data_log/task_logs_20250202_173237_batch_0166.parquet\n",
      "Progress: 83.50% (16,700,000 / 20,000,000 records)\n"
     ]
    },
    {
     "name": "stdout",
     "output_type": "stream",
     "text": [
      "Successfully saved batch 0167 to /lakehouse/default/Files/data_log/task_logs_20250202_173243_batch_0167.parquet\n",
      "Progress: 84.00% (16,800,000 / 20,000,000 records)\n"
     ]
    },
    {
     "name": "stdout",
     "output_type": "stream",
     "text": [
      "Successfully saved batch 0168 to /lakehouse/default/Files/data_log/task_logs_20250202_173249_batch_0168.parquet\n",
      "Progress: 84.50% (16,900,000 / 20,000,000 records)\n"
     ]
    },
    {
     "name": "stdout",
     "output_type": "stream",
     "text": [
      "Successfully saved batch 0169 to /lakehouse/default/Files/data_log/task_logs_20250202_173255_batch_0169.parquet\n",
      "Progress: 85.00% (17,000,000 / 20,000,000 records)\n"
     ]
    },
    {
     "name": "stdout",
     "output_type": "stream",
     "text": [
      "Successfully saved batch 0170 to /lakehouse/default/Files/data_log/task_logs_20250202_173302_batch_0170.parquet\n",
      "Progress: 85.50% (17,100,000 / 20,000,000 records)\n"
     ]
    },
    {
     "name": "stdout",
     "output_type": "stream",
     "text": [
      "Successfully saved batch 0171 to /lakehouse/default/Files/data_log/task_logs_20250202_173308_batch_0171.parquet\n",
      "Progress: 86.00% (17,200,000 / 20,000,000 records)\n"
     ]
    },
    {
     "name": "stdout",
     "output_type": "stream",
     "text": [
      "Successfully saved batch 0172 to /lakehouse/default/Files/data_log/task_logs_20250202_173314_batch_0172.parquet\n",
      "Progress: 86.50% (17,300,000 / 20,000,000 records)\n"
     ]
    },
    {
     "name": "stdout",
     "output_type": "stream",
     "text": [
      "Successfully saved batch 0173 to /lakehouse/default/Files/data_log/task_logs_20250202_173321_batch_0173.parquet\n",
      "Progress: 87.00% (17,400,000 / 20,000,000 records)\n"
     ]
    },
    {
     "name": "stdout",
     "output_type": "stream",
     "text": [
      "Successfully saved batch 0174 to /lakehouse/default/Files/data_log/task_logs_20250202_173327_batch_0174.parquet\n",
      "Progress: 87.50% (17,500,000 / 20,000,000 records)\n"
     ]
    },
    {
     "name": "stdout",
     "output_type": "stream",
     "text": [
      "Successfully saved batch 0175 to /lakehouse/default/Files/data_log/task_logs_20250202_173333_batch_0175.parquet\n",
      "Progress: 88.00% (17,600,000 / 20,000,000 records)\n"
     ]
    },
    {
     "name": "stdout",
     "output_type": "stream",
     "text": [
      "Successfully saved batch 0176 to /lakehouse/default/Files/data_log/task_logs_20250202_173339_batch_0176.parquet\n",
      "Progress: 88.50% (17,700,000 / 20,000,000 records)\n"
     ]
    },
    {
     "name": "stdout",
     "output_type": "stream",
     "text": [
      "Successfully saved batch 0177 to /lakehouse/default/Files/data_log/task_logs_20250202_173346_batch_0177.parquet\n",
      "Progress: 89.00% (17,800,000 / 20,000,000 records)\n"
     ]
    },
    {
     "name": "stdout",
     "output_type": "stream",
     "text": [
      "Successfully saved batch 0178 to /lakehouse/default/Files/data_log/task_logs_20250202_173352_batch_0178.parquet\n",
      "Progress: 89.50% (17,900,000 / 20,000,000 records)\n"
     ]
    },
    {
     "name": "stdout",
     "output_type": "stream",
     "text": [
      "Successfully saved batch 0179 to /lakehouse/default/Files/data_log/task_logs_20250202_173358_batch_0179.parquet\n",
      "Progress: 90.00% (18,000,000 / 20,000,000 records)\n"
     ]
    },
    {
     "name": "stdout",
     "output_type": "stream",
     "text": [
      "Successfully saved batch 0180 to /lakehouse/default/Files/data_log/task_logs_20250202_173405_batch_0180.parquet\n",
      "Progress: 90.50% (18,100,000 / 20,000,000 records)\n"
     ]
    },
    {
     "name": "stdout",
     "output_type": "stream",
     "text": [
      "Successfully saved batch 0181 to /lakehouse/default/Files/data_log/task_logs_20250202_173411_batch_0181.parquet\n",
      "Progress: 91.00% (18,200,000 / 20,000,000 records)\n"
     ]
    },
    {
     "name": "stdout",
     "output_type": "stream",
     "text": [
      "Successfully saved batch 0182 to /lakehouse/default/Files/data_log/task_logs_20250202_173417_batch_0182.parquet\n",
      "Progress: 91.50% (18,300,000 / 20,000,000 records)\n"
     ]
    },
    {
     "name": "stdout",
     "output_type": "stream",
     "text": [
      "Successfully saved batch 0183 to /lakehouse/default/Files/data_log/task_logs_20250202_173424_batch_0183.parquet\n",
      "Progress: 92.00% (18,400,000 / 20,000,000 records)\n"
     ]
    },
    {
     "name": "stdout",
     "output_type": "stream",
     "text": [
      "Successfully saved batch 0184 to /lakehouse/default/Files/data_log/task_logs_20250202_173430_batch_0184.parquet\n",
      "Progress: 92.50% (18,500,000 / 20,000,000 records)\n"
     ]
    },
    {
     "name": "stdout",
     "output_type": "stream",
     "text": [
      "Successfully saved batch 0185 to /lakehouse/default/Files/data_log/task_logs_20250202_173436_batch_0185.parquet\n",
      "Progress: 93.00% (18,600,000 / 20,000,000 records)\n"
     ]
    },
    {
     "name": "stdout",
     "output_type": "stream",
     "text": [
      "Successfully saved batch 0186 to /lakehouse/default/Files/data_log/task_logs_20250202_173442_batch_0186.parquet\n",
      "Progress: 93.50% (18,700,000 / 20,000,000 records)\n"
     ]
    },
    {
     "name": "stdout",
     "output_type": "stream",
     "text": [
      "Successfully saved batch 0187 to /lakehouse/default/Files/data_log/task_logs_20250202_173449_batch_0187.parquet\n",
      "Progress: 94.00% (18,800,000 / 20,000,000 records)\n"
     ]
    },
    {
     "name": "stdout",
     "output_type": "stream",
     "text": [
      "Successfully saved batch 0188 to /lakehouse/default/Files/data_log/task_logs_20250202_173455_batch_0188.parquet\n",
      "Progress: 94.50% (18,900,000 / 20,000,000 records)\n"
     ]
    },
    {
     "name": "stdout",
     "output_type": "stream",
     "text": [
      "Successfully saved batch 0189 to /lakehouse/default/Files/data_log/task_logs_20250202_173501_batch_0189.parquet\n",
      "Progress: 95.00% (19,000,000 / 20,000,000 records)\n"
     ]
    },
    {
     "name": "stdout",
     "output_type": "stream",
     "text": [
      "Successfully saved batch 0190 to /lakehouse/default/Files/data_log/task_logs_20250202_173507_batch_0190.parquet\n",
      "Progress: 95.50% (19,100,000 / 20,000,000 records)\n"
     ]
    },
    {
     "name": "stdout",
     "output_type": "stream",
     "text": [
      "Successfully saved batch 0191 to /lakehouse/default/Files/data_log/task_logs_20250202_173514_batch_0191.parquet\n",
      "Progress: 96.00% (19,200,000 / 20,000,000 records)\n"
     ]
    },
    {
     "name": "stdout",
     "output_type": "stream",
     "text": [
      "Successfully saved batch 0192 to /lakehouse/default/Files/data_log/task_logs_20250202_173520_batch_0192.parquet\n",
      "Progress: 96.50% (19,300,000 / 20,000,000 records)\n"
     ]
    },
    {
     "name": "stdout",
     "output_type": "stream",
     "text": [
      "Successfully saved batch 0193 to /lakehouse/default/Files/data_log/task_logs_20250202_173526_batch_0193.parquet\n",
      "Progress: 97.00% (19,400,000 / 20,000,000 records)\n"
     ]
    },
    {
     "name": "stdout",
     "output_type": "stream",
     "text": [
      "Successfully saved batch 0194 to /lakehouse/default/Files/data_log/task_logs_20250202_173533_batch_0194.parquet\n",
      "Progress: 97.50% (19,500,000 / 20,000,000 records)\n"
     ]
    },
    {
     "name": "stdout",
     "output_type": "stream",
     "text": [
      "Successfully saved batch 0195 to /lakehouse/default/Files/data_log/task_logs_20250202_173539_batch_0195.parquet\n",
      "Progress: 98.00% (19,600,000 / 20,000,000 records)\n"
     ]
    },
    {
     "name": "stdout",
     "output_type": "stream",
     "text": [
      "Successfully saved batch 0196 to /lakehouse/default/Files/data_log/task_logs_20250202_173545_batch_0196.parquet\n",
      "Progress: 98.50% (19,700,000 / 20,000,000 records)\n"
     ]
    },
    {
     "name": "stdout",
     "output_type": "stream",
     "text": [
      "Successfully saved batch 0197 to /lakehouse/default/Files/data_log/task_logs_20250202_173552_batch_0197.parquet\n",
      "Progress: 99.00% (19,800,000 / 20,000,000 records)\n"
     ]
    },
    {
     "name": "stdout",
     "output_type": "stream",
     "text": [
      "Successfully saved batch 0198 to /lakehouse/default/Files/data_log/task_logs_20250202_173558_batch_0198.parquet\n",
      "Progress: 99.50% (19,900,000 / 20,000,000 records)\n"
     ]
    },
    {
     "name": "stdout",
     "output_type": "stream",
     "text": [
      "Successfully saved batch 0199 to /lakehouse/default/Files/data_log/task_logs_20250202_173604_batch_0199.parquet\n",
      "Progress: 100.00% (20,000,000 / 20,000,000 records)\n"
     ]
    }
   ],
   "source": [
    "if __name__ == \"__main__\":\n",
    "    main()"
   ]
  },
  {
   "cell_type": "code",
   "execution_count": null,
   "id": "52cad1b2-677e-46cb-b1de-71614222b1ea",
   "metadata": {
    "microsoft": {
     "language": "python",
     "language_group": "synapse_pyspark"
    }
   },
   "outputs": [],
   "source": []
  }
 ],
 "metadata": {
  "dependencies": {
   "lakehouse": {
    "default_lakehouse": "b4a30b37-e7b5-412c-9bf2-df60b11545b9",
    "default_lakehouse_name": "Lakehousedemo01",
    "default_lakehouse_workspace_id": "f59139ae-710a-4cc7-ab46-a9324eab8d70",
    "known_lakehouses": [
     {
      "id": "b4a30b37-e7b5-412c-9bf2-df60b11545b9"
     }
    ]
   }
  },
  "kernel_info": {
   "name": "synapse_pyspark"
  },
  "kernelspec": {
   "display_name": "Synapse PySpark",
   "language": "Python",
   "name": "synapse_pyspark"
  },
  "language_info": {
   "name": "python"
  },
  "microsoft": {
   "language": "python",
   "language_group": "synapse_pyspark",
   "ms_spell_check": {
    "ms_spell_check_language": "en"
   }
  },
  "nteract": {
   "version": "nteract-front-end@1.0.0"
  },
  "spark_compute": {
   "compute_id": "/trident/default",
   "session_options": {
    "conf": {
     "spark.synapse.nbs.session.timeout": "1200000"
    }
   }
  }
 },
 "nbformat": 4,
 "nbformat_minor": 5
}
